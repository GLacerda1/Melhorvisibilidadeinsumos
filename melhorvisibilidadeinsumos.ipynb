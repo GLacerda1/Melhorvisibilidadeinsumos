{
  "nbformat": 4,
  "nbformat_minor": 0,
  "metadata": {
    "colab": {
      "provenance": []
    },
    "kernelspec": {
      "name": "python3",
      "display_name": "Python 3"
    },
    "language_info": {
      "name": "python"
    }
  },
  "cells": [
    {
      "cell_type": "markdown",
      "source": [
        "# Formulação do Problema\n",
        "\n",
        "O problema consiste em **controlar o consumo diário de insumos** (reagentes e descartáveis) em unidades de diagnóstico, garantindo que:\n",
        "\n",
        "- O estoque esteja disponível para atender à demanda diária;\n",
        "- Os custos totais sejam minimizados, considerando:\n",
        "  - Pedido de insumos (custo fixo e custo por unidade);\n",
        "  - Armazenagem (custo por unidade em estoque);\n",
        "  - Falta de insumos (custo por unidade não atendida);\n",
        "  - Desperdício (custo de excesso que ultrapassa a capacidade máxima de estoque).\n",
        "\n",
        "**Definição em termos de Programação Dinâmica (PD):**\n",
        "\n",
        "- **Estados (`s`)**: quantidade de insumos em estoque no início do dia.  \n",
        "- **Decisões (`q`)**: quantidade de insumos a pedir em cada período.  \n",
        "- **Transição de estados (`s'`)**: estoque após consumo da demanda diária:  \n",
        "  \\[\n",
        "  s' = \\text{max}(0, \\text{min}(s + q - d, \\text{max\\_estoque}))\n",
        "  \\]  \n",
        "- **Função de custo imediato (`C(s,q,d)`)**: soma ponderada de custo de pedido, custo por unidade, custo de falta e custo de desperdício.  \n",
        "- **Função objetivo (`V_t(s)`)**: minimizar o custo total esperado no horizonte de planejamento H:  \n",
        "  \\[\n",
        "  V_t(s) = \\min_{q} \\mathbb{E}_d \\big[ C(s,q,d) + V_{t+1}(s') \\big]\n",
        "  \\]  \n",
        "\n",
        "---\n",
        "\n",
        "# Estratégia de Implementação\n",
        "\n",
        "Para resolver o problema, utilizamos três abordagens de Programação Dinâmica:\n",
        "\n",
        "1. **Recursiva Pura (`V_recursivo`)**  \n",
        "   - Explora todas as combinações possíveis de estoque, pedidos e demandas.  \n",
        "   - Serve como referência conceitual, mas cresce exponencialmente e não é viável para horizontes grandes.  \n",
        "\n",
        "2. **Recursiva com Memorização (`V_memo`)**  \n",
        "   - Usa `@lru_cache` para armazenar resultados intermediários e evitar recomputações.  \n",
        "   - Permite resolver problemas maiores rapidamente, mantendo exatidão.  \n",
        "\n",
        "3. **Iterativa Bottom-Up (`V_iterativo`)**  \n",
        "   - Preenche uma tabela `V[t][s]` do horizonte final até o início.  \n",
        "   - Garante desempenho eficiente em tempo e memória, escalável para aplicações práticas.  \n",
        "\n",
        "**Componentes adicionais:**\n",
        "\n",
        "- **Função de transição e custo (`proximo_estado_e_custo`)**: calcula o novo estoque e o custo imediato, integrando todos os fatores relevantes do problema.  \n",
        "- **Função de medição (`medir`)**: compara tempo de execução e pico de memória entre as abordagens.  \n",
        "- **Controle de reprodutibilidade**: fixação de seeds (`random.seed(42)` e `np.random.seed(42)`) garante resultados consistentes em múltiplas execuções.  \n",
        "\n",
        "**Resumo da estratégia:**  \n",
        "- Avaliar todas as decisões possíveis para cada estado e período.  \n",
        "- Calcular o custo esperado considerando a probabilidade de cada demanda.  \n",
        "- Escolher a decisão que minimize o custo total esperado.  \n",
        "- Comparar versões para validar exatidão e medir eficiência.\n"
      ],
      "metadata": {
        "id": "FGTIvnMgVdwj"
      }
    },
    {
      "cell_type": "markdown",
      "source": [
        "# Imports e utilitários"
      ],
      "metadata": {
        "id": "COpDCY3jNu17"
      }
    },
    {
      "cell_type": "code",
      "source": [
        "import time\n",
        "import tracemalloc\n",
        "import random\n",
        "import numpy as np\n",
        "import matplotlib.pyplot as plt\n",
        "from functools import lru_cache\n",
        "\n",
        "# Reprodutibilidade\n",
        "random.seed(42)\n",
        "np.random.seed(42)"
      ],
      "metadata": {
        "id": "FWSd_J3_NuUb"
      },
      "execution_count": 15,
      "outputs": []
    },
    {
      "cell_type": "code",
      "source": [
        "# Função de medição de desempenho\n",
        "\n",
        "\n",
        "def medir(func, *args):\n",
        "    tracemalloc.start()\n",
        "    t0 = time.perf_counter()\n",
        "    resultado = func(*args)\n",
        "    t1 = time.perf_counter()\n",
        "    atual, pico = tracemalloc.get_traced_memory()\n",
        "    tracemalloc.stop()\n",
        "    return {\n",
        "        \"resultado\": resultado,\n",
        "        \"tempo\": t1 - t0,\n",
        "        \"mem_atual\": atual,\n",
        "        \"mem_pico\": pico\n",
        "    }"
      ],
      "metadata": {
        "id": "23BiDQelSVP7"
      },
      "execution_count": 16,
      "outputs": []
    },
    {
      "cell_type": "markdown",
      "source": [
        "# Parâmetros do problema"
      ],
      "metadata": {
        "id": "LN94gEsHN-_Q"
      }
    },
    {
      "cell_type": "code",
      "source": [
        "H = 6  # horizonte de planejamento (dias)\n",
        "max_estoque = 10  # capacidade máxima de estoque\n",
        "demanda_possivel = [0, 1, 2, 3, 4]  # demandas possíveis por dia\n",
        "prob_demanda = [0.1, 0.2, 0.4, 0.2, 0.1]  # distribuição de probabilidade da demanda\n",
        "\n",
        "# custos (em unidades monetárias)\n",
        "c_pedido = 2.0   # custo fixo por pedido\n",
        "c_estoque = 0.5  # custo por unidade estocada\n",
        "c_falta = 4.0    # custo por unidade em falta\n",
        "c_desperd = 1.0  # custo por unidade desperdiçada (vencimento)\n",
        "c_unit = 1.0     # custo por unidade pedida\n",
        "\n",
        "# estado inicial\n",
        "s0 = 5"
      ],
      "metadata": {
        "id": "5XEQM7waOgrJ"
      },
      "execution_count": 17,
      "outputs": []
    },
    {
      "cell_type": "markdown",
      "source": [
        "# Funções"
      ],
      "metadata": {
        "id": "seg4HonZSrdp"
      }
    },
    {
      "cell_type": "code",
      "source": [
        "# Função de transição e cálculo de custo\n",
        "\n",
        "def proximo_estado_e_custo(estoque_atual, pedido, demanda):\n",
        "    \"\"\"\n",
        "    Dado o estoque atual, a quantidade pedida e a demanda,\n",
        "    retorna o custo e o novo estado.\n",
        "    \"\"\"\n",
        "    # aplica decisão\n",
        "    estoque_novo = estoque_atual + pedido - demanda\n",
        "\n",
        "    # custos\n",
        "    custo_pedido = c_pedido if pedido > 0 else 0\n",
        "    custo_total = (\n",
        "        custo_pedido +\n",
        "        c_unit * pedido +\n",
        "        c_estoque * max(0, estoque_novo) +\n",
        "        c_falta * max(0, -estoque_novo) +\n",
        "        c_desperd * max(0, estoque_novo - max_estoque)\n",
        "    )\n",
        "\n",
        "    # limita o estoque ao máximo físico\n",
        "    estoque_novo = max(0, min(estoque_novo, max_estoque))\n",
        "\n",
        "    return custo_total, estoque_novo\n",
        "\n",
        "# Versão Recursiva Pura\n",
        "\n",
        "def V_recursivo(s, t):\n",
        "    \"\"\"Versão puramente recursiva (sem cache).\"\"\"\n",
        "    if t == H:\n",
        "        return 0.0\n",
        "\n",
        "    melhor_custo = float('inf')\n",
        "\n",
        "    for q in range(0, max_estoque - s + 1):\n",
        "        custo_esperado = 0\n",
        "        for d, p_d in zip(demanda_possivel, prob_demanda):\n",
        "            custo, s_prox = proximo_estado_e_custo(s, q, d)\n",
        "            custo_esperado += p_d * (custo + V_recursivo(s_prox, t + 1))\n",
        "\n",
        "        melhor_custo = min(melhor_custo, custo_esperado)\n",
        "\n",
        "    return melhor_custo\n",
        "\n",
        "# Versão Recursiva com Memorização\n",
        "\n",
        "@lru_cache(maxsize=None)\n",
        "def V_memo(s, t):\n",
        "    \"\"\"Versão recursiva com memorização.\"\"\"\n",
        "    if t == H:\n",
        "        return 0.0\n",
        "\n",
        "    melhor_custo = float('inf')\n",
        "    for q in range(0, max_estoque - s + 1):\n",
        "        custo_esperado = 0\n",
        "        for d, p_d in zip(demanda_possivel, prob_demanda):\n",
        "            custo, s_prox = proximo_estado_e_custo(s, q, d)\n",
        "            custo_esperado += p_d * (custo + V_memo(s_prox, t + 1))\n",
        "\n",
        "        melhor_custo = min(melhor_custo, custo_esperado)\n",
        "\n",
        "    return melhor_custo\n",
        "\n",
        "    # Versão Iterativa (bottom-up)\n",
        "\n",
        "def V_iterativo():\n",
        "    \"\"\"Versão iterativa (bottom-up).\"\"\"\n",
        "    estados = list(range(max_estoque + 1))\n",
        "    V = [{s: 0.0 for s in estados} for _ in range(H + 1)]\n",
        "\n",
        "    for t in reversed(range(H)):\n",
        "        for s in estados:\n",
        "            melhor_custo = float('inf')\n",
        "            for q in range(0, max_estoque - s + 1):\n",
        "                custo_esperado = 0\n",
        "                for d, p_d in zip(demanda_possivel, prob_demanda):\n",
        "                    custo, s_prox = proximo_estado_e_custo(s, q, d)\n",
        "                    custo_esperado += p_d * (custo + V[t + 1][s_prox])\n",
        "                melhor_custo = min(melhor_custo, custo_esperado)\n",
        "            V[t][s] = melhor_custo\n",
        "    return V"
      ],
      "metadata": {
        "id": "oGltG7DpR1nq"
      },
      "execution_count": 18,
      "outputs": []
    },
    {
      "cell_type": "markdown",
      "source": [
        "# Execução e comparação"
      ],
      "metadata": {
        "id": "1G6kBEL7S1ot"
      }
    },
    {
      "cell_type": "code",
      "source": [
        "V_memo.cache_clear()\n",
        "\n",
        "# Recursiva com memorização (top-down)\n",
        "m_memo = medir(lambda: V_memo(s0, 0))\n",
        "v_memo = m_memo[\"resultado\"]\n",
        "print(f\"Memo: tempo = {m_memo['tempo']:.4f}s | pico de memória = {m_memo['mem_pico']} bytes\")\n",
        "\n",
        "# Iterativa (bottom-up)\n",
        "m_iter = medir(V_iterativo)\n",
        "V_tab = m_iter[\"resultado\"]\n",
        "v_iter = V_tab[0][s0]\n",
        "print(f\"Iterativa: tempo = {m_iter['tempo']:.4f}s | pico de memória = {m_iter['mem_pico']} bytes\")\n",
        "\n",
        "# Recursiva pura\n",
        "v_pura = None\n",
        "if H <= 4 and max_estoque <= 5:  # condição conservadora (Para valores grandes ele não roda, pois demora muito para completar a execução)\n",
        "    m_pura = medir(lambda: V_recursivo(s0, 0))\n",
        "    v_pura = m_pura[\"resultado\"]\n",
        "    print(f\"Recursiva pura: tempo = {m_pura['tempo']:.4f}s | pico de memória = {m_pura['mem_pico']} bytes\")\n",
        "else:\n",
        "    print(\"Recursiva pura omitida (problema grande, evita travar).\")\n",
        "\n",
        "# Comparação de valores\n",
        "print(\"\\nComparação de valores:\")\n",
        "print(f\"Memo      = {v_memo:.6f}\")\n",
        "print(f\"Iterativo = {v_iter:.6f}\")\n",
        "print(f\"Pura      = {v_pura:.6f}\" if v_pura is not None else \"Pura      = None\")\n",
        "\n",
        "# Verificação de consistência\n",
        "if abs(v_memo - v_iter) < 1e-6:\n",
        "    print(\"Memo e Iterativo produzem o mesmo resultado!\")\n",
        "else:\n",
        "    print(\"Divergência detectada entre Memo e Iterativo.\")"
      ],
      "metadata": {
        "colab": {
          "base_uri": "https://localhost:8080/"
        },
        "id": "4QgP7XFPTVIP",
        "outputId": "eb4e0a9f-4822-4237-d72c-f84a26fe6537"
      },
      "execution_count": 23,
      "outputs": [
        {
          "output_type": "stream",
          "name": "stdout",
          "text": [
            "Memo: tempo = 0.0197s | pico de memória = 4863 bytes\n",
            "Iterativa: tempo = 0.0247s | pico de memória = 6199 bytes\n",
            "Recursiva pura omitida (problema grande, evita travar).\n",
            "\n",
            "Comparação de valores:\n",
            "Memo      = 19.024926\n",
            "Iterativo = 19.024926\n",
            "Pura      = None\n",
            "Memo e Iterativo produzem o mesmo resultado!\n"
          ]
        }
      ]
    },
    {
      "cell_type": "markdown",
      "source": [
        "# Gráfico de desempenho"
      ],
      "metadata": {
        "id": "_LftKAWMTEYq"
      }
    },
    {
      "cell_type": "code",
      "source": [
        "versoes = [\"Memo\", \"Iterativo\"]\n",
        "tempos = [m_memo[\"tempo\"], m_iter[\"tempo\"]]\n",
        "memorias = [m_memo[\"mem_pico\"], m_iter[\"mem_pico\"]]\n",
        "\n",
        "plt.figure(figsize=(10, 4))\n",
        "\n",
        "# tempo\n",
        "plt.subplot(1, 2, 1)\n",
        "plt.bar(versoes, tempos, color=['skyblue', 'orange'])\n",
        "plt.title(\"Tempo de Execução (s)\")\n",
        "plt.ylabel(\"segundos\")\n",
        "\n",
        "# memória\n",
        "plt.subplot(1, 2, 2)\n",
        "plt.bar(versoes, memorias, color=['skyblue', 'orange'])\n",
        "plt.title(\"Pico de Memória (bytes)\")\n",
        "\n",
        "plt.tight_layout()\n",
        "plt.show()"
      ],
      "metadata": {
        "colab": {
          "base_uri": "https://localhost:8080/",
          "height": 407
        },
        "id": "BeEQVN7UTIVP",
        "outputId": "feac47b2-391b-424a-b4c1-dfde5cec59c0"
      },
      "execution_count": 22,
      "outputs": [
        {
          "output_type": "display_data",
          "data": {
            "text/plain": [
              "<Figure size 1000x400 with 2 Axes>"
            ],
            "image/png": "[encoded data removed]"
          },
          "metadata": {}
        }
      ]
    }
  ]
}